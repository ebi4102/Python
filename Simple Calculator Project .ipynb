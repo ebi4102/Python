{
 "cells": [
  {
   "cell_type": "code",
   "execution_count": 1,
   "id": "3d495e32",
   "metadata": {},
   "outputs": [],
   "source": [
    "import tkinter as tk\n",
    "\n",
    "def update_display(value):\n",
    "    current_text = display_var.get()\n",
    "    if current_text == \"0\":\n",
    "        display_var.set(value)\n",
    "    else:\n",
    "        display_var.set(current_text + value)\n",
    "\n",
    "def clear_display():\n",
    "    display_var.set(\"0\")\n",
    "\n",
    "def calculate_result():\n",
    "    try:\n",
    "        result = eval(display_var.get())\n",
    "        display_var.set(result)\n",
    "    except Exception as e:\n",
    "        display_var.set(\"Error\")\n",
    "\n",
    "parent = tk.Tk()\n",
    "parent.title(\"Calculator\")\n",
    "\n",
    "display_var = tk.StringVar()\n",
    "display_var.set(\"0\")\n",
    "\n",
    "display_label = tk.Label(parent, textvariable=display_var, font=(\"Arial\", 24), anchor=\"e\", bg=\"lightgray\", padx=10, pady=10)\n",
    "display_label.grid(row=0, column=0, columnspan=4)\n",
    "\n",
    "button_layout = [\n",
    "    (\"7\", 1, 0), (\"8\", 1, 1), (\"9\", 1, 2), (\"/\", 1, 3),\n",
    "    (\"4\", 2, 0), (\"5\", 2, 1), (\"6\", 2, 2), (\"*\", 2, 3),\n",
    "    (\"1\", 3, 0), (\"2\", 3, 1), (\"3\", 3, 2), (\"-\", 3, 3),\n",
    "    (\"0\", 4, 0), (\".\", 4, 1), (\"=\", 4, 2), (\"+\", 4, 3),\n",
    "]\n",
    "\n",
    "for (text, row, col) in button_layout:\n",
    "    button = tk.Button(parent, text=text, padx=20, pady=20, font=(\"Arial\", 18),\n",
    "                       command=lambda t=text: update_display(t) if t != \"=\" else calculate_result())\n",
    "    button.grid(row=row, column=col)\n",
    "\n",
    "clear_button = tk.Button(parent, text=\"C\", padx=20, pady=20, font=(\"Arial\", 18), command=clear_display)\n",
    "clear_button.grid(row=5, column=0, columnspan=3)\n",
    "\n",
    "parent.mainloop()"
   ]
  },
  {
   "cell_type": "code",
   "execution_count": null,
   "id": "ac8e15e8",
   "metadata": {},
   "outputs": [],
   "source": []
  }
 ],
 "metadata": {
  "kernelspec": {
   "display_name": "Python 3 (ipykernel)",
   "language": "python",
   "name": "python3"
  },
  "language_info": {
   "codemirror_mode": {
    "name": "ipython",
    "version": 3
   },
   "file_extension": ".py",
   "mimetype": "text/x-python",
   "name": "python",
   "nbconvert_exporter": "python",
   "pygments_lexer": "ipython3",
   "version": "3.11.5"
  }
 },
 "nbformat": 4,
 "nbformat_minor": 5
}
